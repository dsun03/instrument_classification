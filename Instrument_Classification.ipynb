{
  "nbformat": 4,
  "nbformat_minor": 0,
  "metadata": {
    "colab": {
      "provenance": [],
      "gpuType": "T4"
    },
    "kernelspec": {
      "name": "python3",
      "display_name": "Python 3"
    },
    "language_info": {
      "name": "python"
    },
    "accelerator": "GPU"
  },
  "cells": [
    {
      "cell_type": "markdown",
      "source": [
        "We did not use any AI-generated code, we changed the code from Assignment 5. We wrote approximately 180 out of 280 lines of code in this project."
      ],
      "metadata": {
        "id": "C5bf9sJ-nEYx"
      }
    },
    {
      "cell_type": "code",
      "source": [
        "import matplotlib.pyplot as plt\n",
        "import numpy as np\n",
        "import torch\n",
        "import os\n",
        "import librosa\n",
        "import librosa.display\n",
        "import time\n",
        "import shutil"
      ],
      "metadata": {
        "id": "Rl_rptNsDlO1"
      },
      "execution_count": null,
      "outputs": []
    },
    {
      "cell_type": "code",
      "source": [
        "from google.colab import drive\n",
        "drive.mount('/content/drive')"
      ],
      "metadata": {
        "id": "1fUniZcmzlVI",
        "colab": {
          "base_uri": "https://localhost:8080/"
        },
        "outputId": "0e064154-cf58-4055-a3e6-4af4e2a2b14c"
      },
      "execution_count": null,
      "outputs": [
        {
          "output_type": "stream",
          "name": "stdout",
          "text": [
            "Mounted at /content/drive\n"
          ]
        }
      ]
    },
    {
      "cell_type": "code",
      "source": [
        "os.chdir(\"/content/drive/MyDrive/ML Final Project\")      #change working directory\n",
        "print(os.listdir(os.getcwd()))                           #print what's in directory\n",
        "test_path1 = os.path.join(os.getcwd(),'IRMAS-TestingData-Part1/IRMAS-TestingData-Part1/Part1')   #set path for testing data\n",
        "test_path2 = os.path.join(os.getcwd(),'IRMAS-TestingData-Part2/IRMAS-TestingData-Part2/Part2')   #set path for testing data\n",
        "test_path3 = os.path.join(os.getcwd(),'IRMAS-TestingData-Part3/IRMAS-TestingData-Part3/Part3')   #set path for testing data\n",
        "training_path = os.path.join(os.getcwd(), 'IRMAS-TrainingData')      #set path for training data\n",
        "print(training_path)"
      ],
      "metadata": {
        "id": "9Ymmyx6o5I7a",
        "colab": {
          "base_uri": "https://localhost:8080/"
        },
        "outputId": "3bffcb61-d28a-427d-d53f-189aaaa8972b"
      },
      "execution_count": null,
      "outputs": [
        {
          "output_type": "stream",
          "name": "stdout",
          "text": [
            "['IRMAS-TestingData-Part2', 'IRMAS-TestingData-Part1', 'IRMAS-TestingData-Part3', 'IRMAS-TrainingData', '.ipynb_checkpoints']\n",
            "/content/drive/.shortcut-targets-by-id/1eQizmSf2wSg0t-JCTbch-aDuEcu8Svtq/ML Final Project/IRMAS-TrainingData\n"
          ]
        }
      ]
    },
    {
      "cell_type": "code",
      "source": [
        "HEIGHT = 20   # height and width of feature matrix\n",
        "WIDTH = 130\n",
        "NUM_LABELS = 0\n",
        "LABEL_TO_INDEX = {}\n",
        "INDEX_TO_LABEL = {}\n",
        "\n",
        "labels = os.listdir(training_path)        #makes the labels which are just the classes in training_path\n",
        "index = 0\n",
        "folder_path = (f\"{training_path}/.ipynb_checkpoints\") #getting rid of any checkpoints\n",
        "if os.path.exists(folder_path):\n",
        "      shutil.rmtree(folder_path)\n",
        "      print(\"Unwanted folder deleted successfully.\")\n",
        "\n",
        "for label in labels:                       #create dictionary for labels\n",
        "    LABEL_TO_INDEX[label] = index\n",
        "    index += 1\n",
        "    NUM_LABELS = len(LABEL_TO_INDEX)\n",
        "\n",
        "INDEX_TO_LABEL = {i: label for label, i in LABEL_TO_INDEX.items()}\n",
        "\n",
        "print(LABEL_TO_INDEX)\n",
        "print(INDEX_TO_LABEL)"
      ],
      "metadata": {
        "id": "hKeaVnaj6uv2",
        "colab": {
          "base_uri": "https://localhost:8080/"
        },
        "outputId": "486903e6-6193-4898-fba9-e0769aac03f6"
      },
      "execution_count": null,
      "outputs": [
        {
          "output_type": "stream",
          "name": "stdout",
          "text": [
            "{'sax': 0, 'tru': 1, 'vio': 2, 'flu': 3, 'gac': 4, 'gel': 5, 'pia': 6, 'voi': 7, 'org': 8, 'cel': 9, 'cla': 10}\n",
            "{0: 'sax', 1: 'tru', 2: 'vio', 3: 'flu', 4: 'gac', 5: 'gel', 6: 'pia', 7: 'voi', 8: 'org', 9: 'cel', 10: 'cla'}\n"
          ]
        }
      ]
    },
    {
      "cell_type": "code",
      "source": [
        "#function to extract features\n",
        "def extract_feature(path_files):\n",
        "    wave, sr = librosa.load(path_files, mono=True)\n",
        "    mfccs = librosa.feature.mfcc(y=wave, sr=sr, n_mfcc = HEIGHT)\n",
        "    return mfccs"
      ],
      "metadata": {
        "id": "G9_pN_oB8scS"
      },
      "execution_count": null,
      "outputs": []
    },
    {
      "cell_type": "code",
      "source": [
        "x_train = []\n",
        "y_train = []\n",
        "\n",
        "for i in labels:    #iterate through classes\n",
        "    print('Working on: ', i)\n",
        "    training_folders = os.path.join(training_path, i)           #create path to class\n",
        "    folder_path = (f\"{training_folders}/.ipynb_checkpoints\")    #delete unwanted files\n",
        "    if os.path.exists(folder_path):\n",
        "        shutil.rmtree(folder_path)\n",
        "        print(\"Folder deleted successfully.\")\n",
        "    for a in os.listdir(training_folders):                      #for each audio file in class\n",
        "        training_audio = os.path.join(training_folders, a)      #create path to audio file\n",
        "        x_train.append(extract_feature(training_audio))         #extract features of audio and add to X array\n",
        "        y_train.append(LABEL_TO_INDEX[i])                       #add the label to y array"
      ],
      "metadata": {
        "id": "fWq3kTcoXfNm",
        "colab": {
          "base_uri": "https://localhost:8080/"
        },
        "outputId": "93c5cd4b-e868-4f80-9190-772a6bd0551c"
      },
      "execution_count": null,
      "outputs": [
        {
          "output_type": "stream",
          "name": "stdout",
          "text": [
            "Working on:  sax\n",
            "Working on:  tru\n",
            "Working on:  vio\n",
            "Working on:  flu\n",
            "Working on:  gac\n",
            "Working on:  gel\n",
            "Working on:  pia\n",
            "Working on:  voi\n",
            "Working on:  org\n",
            "Working on:  cel\n",
            "Working on:  cla\n"
          ]
        }
      ]
    },
    {
      "cell_type": "code",
      "source": [
        "plt.figure(figsize=(12,4))      #DISPLAY THE FEATURES FOR A RANDOM AUDIO FILE\n",
        "random_audio = np.random.randint(0, len(x_train))\n",
        "plt.title(f\"Mel Frequency Cepstral Coefficients Example #{random_audio}\")\n",
        "random_audio = np.random.randint(0, len(x_train))\n",
        "librosa.display.specshow(np.array(x_train)[random_audio], x_axis =\"time\")\n",
        "plt.colorbar()"
      ],
      "metadata": {
        "id": "sDoC3LV78yaR",
        "colab": {
          "base_uri": "https://localhost:8080/",
          "height": 427
        },
        "outputId": "e97215c2-27ac-418c-a80c-1f35387f2eed"
      },
      "execution_count": null,
      "outputs": [
        {
          "output_type": "execute_result",
          "data": {
            "text/plain": [
              "<matplotlib.colorbar.Colorbar at 0x7bd77bc77d00>"
            ]
          },
          "metadata": {},
          "execution_count": 7
        },
        {
          "output_type": "display_data",
          "data": {
            "text/plain": [
              "<Figure size 1200x400 with 2 Axes>"
            ],
            "image/png": "[encoded data removed]"
          },
          "metadata": {}
        }
      ]
    },
    {
      "cell_type": "code",
      "source": [
        "x_train = torch.tensor(np.array(x_train))\n",
        "x_train = x_train.unsqueeze(1)  # add channel dimension, only one channel for audio file\n",
        "print(x_train.shape)\n",
        "training_data = list(zip(x_train,y_train))\n",
        "\n",
        "# training_data[i][0] = i'th audio file features\n",
        "# training_data[i][1] = i'th label"
      ],
      "metadata": {
        "id": "uDIjLHw4EZJ8",
        "colab": {
          "base_uri": "https://localhost:8080/"
        },
        "outputId": "8d4f0079-34ea-4b8e-da3a-9e2ca26e0a90"
      },
      "execution_count": null,
      "outputs": [
        {
          "output_type": "stream",
          "name": "stdout",
          "text": [
            "torch.Size([6705, 1, 20, 130])\n"
          ]
        }
      ]
    },
    {
      "cell_type": "code",
      "source": [
        "# create testing datasets\n",
        "print(len(os.listdir(test_path1)))\n",
        "x_val = []\n",
        "y_val = []\n",
        "\n",
        "for f in os.listdir(test_path1):                                  #for each file in test set\n",
        "    filename = os.path.join(test_path1, f)                        #create path to file\n",
        "    if filename.endswith(\".wav\"):\n",
        "        x_val.append(extract_feature(training_audio))             #extract features of audio and add to x array\n",
        "        f = open(filename.replace('.wav','.txt'), \"r\")            #for each audio file, getting dominant instrument label from .txt file\n",
        "        curr_label = (f.readline().strip())\n",
        "        y_val.append(LABEL_TO_INDEX[curr_label])                  #add label to y array\n",
        "\n",
        "for f in os.listdir(test_path2):                                  #for each file in test set\n",
        "    filename = os.path.join(test_path2, f)                        #create path to file\n",
        "    if filename.endswith(\".wav\"):\n",
        "        x_val.append(extract_feature(training_audio))             #extract features of audio and add to x array\n",
        "        f = open(filename.replace('.wav','.txt'), \"r\")            #for each audio file, getting dominant instrument label from .txt file\n",
        "        curr_label = (f.readline().strip())\n",
        "        y_val.append(LABEL_TO_INDEX[curr_label])                  #add label to y array\n",
        "\n",
        "for f in os.listdir(test_path3):                                  #for each file in test set\n",
        "    filename = os.path.join(test_path3, f)                        #create path to file\n",
        "    if filename.endswith(\".wav\"):\n",
        "        x_val.append(extract_feature(training_audio))             #extract features of audio and add to x array\n",
        "        f = open(filename.replace('.wav','.txt'), \"r\")            #for each audio file, getting dominant instrument label from .txt file\n",
        "        curr_label = (f.readline().strip())\n",
        "        y_val.append(LABEL_TO_INDEX[curr_label])                  #add label to y array"
      ],
      "metadata": {
        "id": "VzguwrNkTXza",
        "colab": {
          "base_uri": "https://localhost:8080/"
        },
        "outputId": "4769a0a9-7993-45d7-f223-3ef4ec67bb70"
      },
      "execution_count": null,
      "outputs": [
        {
          "output_type": "stream",
          "name": "stdout",
          "text": [
            "1614\n"
          ]
        }
      ]
    },
    {
      "cell_type": "code",
      "source": [
        "x_val = torch.tensor(np.array(x_val))\n",
        "x_val = x_val.unsqueeze(1)  # add channel dimension, only one channel for audio file\n",
        "print(\"testing dataset shape\", x_val.shape)\n",
        "val_data = list(zip(x_val,y_val))\n",
        "\n",
        "# val_data[i][0] = i'th audio file features\n",
        "# val_data[i][1] = i'th label"
      ],
      "metadata": {
        "id": "s6y546F1_wTK",
        "colab": {
          "base_uri": "https://localhost:8080/"
        },
        "outputId": "97381d6b-8c97-42e3-e2c4-8c3260554f94"
      },
      "execution_count": null,
      "outputs": [
        {
          "output_type": "stream",
          "name": "stdout",
          "text": [
            "testing dataset shape torch.Size([2874, 1, 20, 130])\n"
          ]
        }
      ]
    },
    {
      "cell_type": "code",
      "source": [
        "BATCH_SIZE = 10\n",
        "from torch.utils.data.dataloader import DataLoader\n",
        "\n",
        "train_dl = DataLoader(training_data, BATCH_SIZE, shuffle=True, num_workers=2, pin_memory=True)\n",
        "val_dl = DataLoader(val_data, BATCH_SIZE*2, shuffle=True, num_workers=2, pin_memory=True)"
      ],
      "metadata": {
        "id": "HyUwMZdSclp6"
      },
      "execution_count": null,
      "outputs": []
    },
    {
      "cell_type": "code",
      "source": [
        "import torch.nn as nn\n",
        "import torch.nn.functional as F\n",
        "\n",
        "class AudioClassificationBase(nn.Module):\n",
        "    def training_step(self, batch):\n",
        "        audio, labels = batch\n",
        "        # forward pass\n",
        "        out = self(audio)  # Generate predictions for all the audio files in the batch\n",
        "        loss = nn.CrossEntropyLoss()(out,labels) # Calculate cross-entropy (CE) loss\n",
        "        return loss\n",
        "\n",
        "    def test_step(self, batch):\n",
        "        audio, labels = batch\n",
        "        out = self(audio)  # Generate predictions for all the images in the batch\n",
        "        loss = nn.CrossEntropyLoss()(out,labels) # Calculate cross-entropy (CE) loss\n",
        "        acc = accuracy(out, labels) # Calculate accuracy\n",
        "        return {'val_loss': loss.detach().cpu(), 'val_acc': acc}\n",
        "\n",
        "    def test_epoch_end(self, outputs):\n",
        "        batch_losses = [x['val_loss'] for x in outputs] # Creates a list that contains the validation loss of each batch\n",
        "        epoch_loss = torch.stack(batch_losses).mean()   # Combines batch losses into a single tensor and then calculates the mean\n",
        "        batch_accs = [x['val_acc'] for x in outputs]    # Creates a list that contains the validation accuracy of each batch\n",
        "        epoch_acc = torch.stack(batch_accs).mean()      # Combines batch accuracies into a single tensor and then calculates the mean\n",
        "        return {'val_loss': epoch_loss.item(), 'val_acc': epoch_acc.item()}\n",
        "\n",
        "    def epoch_end(self, epoch, result):\n",
        "        print(\"Epoch [{}], train_loss: {:.4f}, val_loss: {:.4f}, val_acc: {:.4f}\".format(\n",
        "            epoch, result['train_loss'], result['val_loss'], result['val_acc']))\n",
        "\n",
        "def accuracy(outputs, labels):\n",
        "    # generate predictions\n",
        "    _, preds = torch.max(outputs,1)\n",
        "    return torch.tensor(torch.sum(preds == labels).item() / len(preds)).detach().cpu()"
      ],
      "metadata": {
        "id": "-uqEk10yyrWw"
      },
      "execution_count": null,
      "outputs": []
    },
    {
      "cell_type": "code",
      "source": [
        "def get_default_device():\n",
        "    \"\"\"Pick GPU if available, else CPU\"\"\"\n",
        "    if torch.cuda.is_available():\n",
        "        return torch.device('cuda')\n",
        "    else:\n",
        "        return torch.device('cpu')\n",
        "\n",
        "def to_device(data, device):\n",
        "    \"\"\"Move tensor(s) to chosen device\"\"\"\n",
        "    if isinstance(data, (list,tuple)):\n",
        "        return [to_device(x, device) for x in data]\n",
        "    return data.to(device, non_blocking=True)\n",
        "\n",
        "class DeviceDataLoader():\n",
        "    \"\"\"Wrap a dataloader to move data to a device\"\"\"\n",
        "    def __init__(self, dl, device):\n",
        "        self.dl = dl\n",
        "        self.device = device\n",
        "\n",
        "    def __iter__(self):\n",
        "        \"\"\"Yield a batch of data after moving it to device\"\"\"\n",
        "        for b in self.dl:\n",
        "            yield to_device(b, self.device)\n",
        "\n",
        "    def __len__(self):\n",
        "        \"\"\"Number of batches\"\"\"\n",
        "        return len(self.dl)"
      ],
      "metadata": {
        "id": "eSt7LUvrzhfP"
      },
      "execution_count": null,
      "outputs": []
    },
    {
      "cell_type": "code",
      "source": [
        "device = get_default_device()\n",
        "device"
      ],
      "metadata": {
        "colab": {
          "base_uri": "https://localhost:8080/"
        },
        "id": "f_-qiwTgzhxt",
        "outputId": "1fe680ab-f922-40c3-d899-ceea8e926008"
      },
      "execution_count": null,
      "outputs": [
        {
          "output_type": "execute_result",
          "data": {
            "text/plain": [
              "device(type='cpu')"
            ]
          },
          "metadata": {},
          "execution_count": 14
        }
      ]
    },
    {
      "cell_type": "code",
      "source": [
        "class CNNModel(AudioClassificationBase):\n",
        "    def __init__(self):\n",
        "        super().__init__()\n",
        "        self.network = nn.Sequential(\n",
        "            # input: 1 x 20 x 130\n",
        "            nn.Conv2d(1, 16, kernel_size=3, stride=1, padding=1),\n",
        "            # output: 16 x 20 x 130\n",
        "            nn.ReLU(),\n",
        "            nn.Conv2d(16, 32, kernel_size=3, stride=[1,2], padding=1),\n",
        "            # output: 32 x 20 x 64\n",
        "            nn.ReLU(),\n",
        "            nn.MaxPool2d(2, 2),\n",
        "            # output: 32 x 10 x 32\n",
        "\n",
        "            nn.Conv2d(32, 32, kernel_size=3, stride=1, padding=1),\n",
        "            # output: 32 x 10 x 32\n",
        "            nn.ReLU(),\n",
        "            nn.Conv2d(32, 32, kernel_size=3, stride=[1,2], padding=1),\n",
        "            # output: 32 x 10 x 16\n",
        "            nn.ReLU(),\n",
        "            nn.MaxPool2d(2, 2),\n",
        "            # output: 32 x 5 x 8\n",
        "\n",
        "            nn.Flatten(),\n",
        "            nn.Linear(1280, 512),\n",
        "            nn.ReLU(),\n",
        "            nn.Linear(512, 128),\n",
        "            nn.ReLU(),\n",
        "            nn.Dropout(0.5),\n",
        "            nn.Linear(128, 11))\n",
        "\n",
        "    def forward(self, xb):\n",
        "        return self.network(xb)"
      ],
      "metadata": {
        "id": "wh2_s8eZ9TA2"
      },
      "execution_count": null,
      "outputs": []
    },
    {
      "cell_type": "code",
      "source": [
        "model = CNNModel()\n",
        "model"
      ],
      "metadata": {
        "id": "gTumEMqRCzfs",
        "colab": {
          "base_uri": "https://localhost:8080/"
        },
        "outputId": "8710d7f1-0cec-44a3-85a8-d0759df652b6"
      },
      "execution_count": null,
      "outputs": [
        {
          "output_type": "execute_result",
          "data": {
            "text/plain": [
              "CNNModel(\n",
              "  (network): Sequential(\n",
              "    (0): Conv2d(1, 16, kernel_size=(3, 3), stride=(1, 1), padding=(1, 1))\n",
              "    (1): ReLU()\n",
              "    (2): Conv2d(16, 32, kernel_size=(3, 3), stride=(1, 2), padding=(1, 1))\n",
              "    (3): ReLU()\n",
              "    (4): MaxPool2d(kernel_size=2, stride=2, padding=0, dilation=1, ceil_mode=False)\n",
              "    (5): Conv2d(32, 32, kernel_size=(3, 3), stride=(1, 1), padding=(1, 1))\n",
              "    (6): ReLU()\n",
              "    (7): Conv2d(32, 32, kernel_size=(3, 3), stride=(1, 2), padding=(1, 1))\n",
              "    (8): ReLU()\n",
              "    (9): MaxPool2d(kernel_size=2, stride=2, padding=0, dilation=1, ceil_mode=False)\n",
              "    (10): Flatten(start_dim=1, end_dim=-1)\n",
              "    (11): Linear(in_features=1280, out_features=512, bias=True)\n",
              "    (12): ReLU()\n",
              "    (13): Linear(in_features=512, out_features=128, bias=True)\n",
              "    (14): ReLU()\n",
              "    (15): Dropout(p=0.5, inplace=False)\n",
              "    (16): Linear(in_features=128, out_features=11, bias=True)\n",
              "  )\n",
              ")"
            ]
          },
          "metadata": {},
          "execution_count": 16
        }
      ]
    },
    {
      "cell_type": "code",
      "source": [
        "train_dl= DeviceDataLoader(train_dl, device)\n",
        "val_dl = DeviceDataLoader(val_dl, device)\n",
        "to_device(model, device)"
      ],
      "metadata": {
        "colab": {
          "base_uri": "https://localhost:8080/"
        },
        "id": "XicKt-VTzkio",
        "outputId": "caa9dbf2-a37a-4a56-bf6d-d33251d66d8b"
      },
      "execution_count": null,
      "outputs": [
        {
          "output_type": "execute_result",
          "data": {
            "text/plain": [
              "CNNModel(\n",
              "  (network): Sequential(\n",
              "    (0): Conv2d(1, 16, kernel_size=(3, 3), stride=(1, 1), padding=(1, 1))\n",
              "    (1): ReLU()\n",
              "    (2): Conv2d(16, 32, kernel_size=(3, 3), stride=(1, 2), padding=(1, 1))\n",
              "    (3): ReLU()\n",
              "    (4): MaxPool2d(kernel_size=2, stride=2, padding=0, dilation=1, ceil_mode=False)\n",
              "    (5): Conv2d(32, 32, kernel_size=(3, 3), stride=(1, 1), padding=(1, 1))\n",
              "    (6): ReLU()\n",
              "    (7): Conv2d(32, 32, kernel_size=(3, 3), stride=(1, 2), padding=(1, 1))\n",
              "    (8): ReLU()\n",
              "    (9): MaxPool2d(kernel_size=2, stride=2, padding=0, dilation=1, ceil_mode=False)\n",
              "    (10): Flatten(start_dim=1, end_dim=-1)\n",
              "    (11): Linear(in_features=1280, out_features=512, bias=True)\n",
              "    (12): ReLU()\n",
              "    (13): Linear(in_features=512, out_features=128, bias=True)\n",
              "    (14): ReLU()\n",
              "    (15): Dropout(p=0.5, inplace=False)\n",
              "    (16): Linear(in_features=128, out_features=11, bias=True)\n",
              "  )\n",
              ")"
            ]
          },
          "metadata": {},
          "execution_count": 17
        }
      ]
    },
    {
      "cell_type": "code",
      "source": [
        "for audio, labels in train_dl:\n",
        "    print('audio.shape:', audio.shape)\n",
        "    out = model(audio)\n",
        "    print('out.shape:', out.shape)\n",
        "    print('out[0]:', out[0])\n",
        "    break"
      ],
      "metadata": {
        "id": "u1OF-SzwDCGO",
        "colab": {
          "base_uri": "https://localhost:8080/"
        },
        "outputId": "5179ce5c-6fdd-468b-b6fd-d8d9543b1d2d"
      },
      "execution_count": null,
      "outputs": [
        {
          "output_type": "stream",
          "name": "stdout",
          "text": [
            "audio.shape: torch.Size([10, 1, 20, 130])\n",
            "out.shape: torch.Size([10, 11])\n",
            "out[0]: tensor([ 0.0849, -0.0936, -0.1010, -0.1251,  0.2505, -0.1379,  0.1893, -0.3657,\n",
            "        -0.1055, -0.0429, -0.1753], grad_fn=<SelectBackward0>)\n"
          ]
        }
      ]
    },
    {
      "cell_type": "code",
      "source": [
        "#training the model\n",
        "\n",
        "@torch.no_grad()\n",
        "def evaluate(model, test_loader):\n",
        "    model.eval()\n",
        "    outputs = [model.test_step(batch) for batch in test_loader]\n",
        "    return model.test_epoch_end(outputs)\n",
        "\n",
        "def fit(epochs, lr, model, train_loader, test_loader, weight_decay, opt_func=torch.optim.SGD): # SGD refers to mini-batch stochastic gradient descent\n",
        "    history = []\n",
        "    optimizer = opt_func(model.parameters(), lr, weight_decay=weight_decay)\n",
        "    for epoch in range(epochs):\n",
        "        # Training Phase\n",
        "        model.train()\n",
        "        train_losses = []\n",
        "        for batch in train_loader:\n",
        "            loss = model.training_step(batch)\n",
        "            loss.backward()\n",
        "            optimizer.step()\n",
        "            optimizer.zero_grad()\n",
        "            train_losses.append(loss.detach().cpu())\n",
        "        # test phase\n",
        "        result = evaluate(model, test_loader)\n",
        "        result['train_loss'] = torch.stack(train_losses).mean().item()\n",
        "        model.epoch_end(epoch, result)\n",
        "        history.append(result) # displays train_loss, val_loss and val_acc at the end of each epoch\n",
        "    return history"
      ],
      "metadata": {
        "id": "1RlfFhDQJlEk"
      },
      "execution_count": null,
      "outputs": []
    },
    {
      "cell_type": "code",
      "source": [
        "evaluate(model, val_dl)"
      ],
      "metadata": {
        "id": "r52OjzLQKAps",
        "colab": {
          "base_uri": "https://localhost:8080/"
        },
        "outputId": "24a55a50-e319-4575-9e29-19f05f9ba427"
      },
      "execution_count": null,
      "outputs": [
        {
          "output_type": "execute_result",
          "data": {
            "text/plain": [
              "{'val_loss': 2.4327540397644043, 'val_acc': 0.16785714030265808}"
            ]
          },
          "metadata": {},
          "execution_count": 20
        }
      ]
    },
    {
      "cell_type": "code",
      "source": [
        "num_epochs = 20\n",
        "opt_func = torch.optim.Adam\n",
        "lr = 0.00001\n",
        "weight_decay = 0.000001\n",
        "\n",
        "history = fit(num_epochs, lr, model, train_dl, val_dl, weight_decay, opt_func)"
      ],
      "metadata": {
        "id": "Q1_CZpYVKUlW",
        "colab": {
          "base_uri": "https://localhost:8080/"
        },
        "outputId": "f970eaeb-2455-442c-edc0-29ece124e014"
      },
      "execution_count": null,
      "outputs": [
        {
          "output_type": "stream",
          "name": "stdout",
          "text": [
            "Epoch [0], train_loss: 2.3449, val_loss: 2.3570, val_acc: 0.0970\n",
            "Epoch [1], train_loss: 2.2043, val_loss: 2.4935, val_acc: 0.0970\n",
            "Epoch [2], train_loss: 2.1056, val_loss: 2.5307, val_acc: 0.0042\n",
            "Epoch [3], train_loss: 2.0501, val_loss: 2.5454, val_acc: 0.0042\n",
            "Epoch [4], train_loss: 2.0116, val_loss: 2.5192, val_acc: 0.0042\n",
            "Epoch [5], train_loss: 1.9696, val_loss: 2.5862, val_acc: 0.0049\n",
            "Epoch [6], train_loss: 1.9414, val_loss: 2.7031, val_acc: 0.0049\n",
            "Epoch [7], train_loss: 1.9222, val_loss: 2.4916, val_acc: 0.0049\n",
            "Epoch [8], train_loss: 1.8881, val_loss: 2.5437, val_acc: 0.0049\n",
            "Epoch [9], train_loss: 1.8734, val_loss: 2.4987, val_acc: 0.0049\n",
            "Epoch [10], train_loss: 1.8457, val_loss: 2.8452, val_acc: 0.0049\n",
            "Epoch [11], train_loss: 1.8309, val_loss: 2.6081, val_acc: 0.0050\n",
            "Epoch [12], train_loss: 1.8141, val_loss: 2.9106, val_acc: 0.0049\n",
            "Epoch [13], train_loss: 1.7960, val_loss: 2.7427, val_acc: 0.0049\n",
            "Epoch [14], train_loss: 1.7793, val_loss: 2.8296, val_acc: 0.0049\n",
            "Epoch [15], train_loss: 1.7578, val_loss: 2.6532, val_acc: 0.0049\n",
            "Epoch [16], train_loss: 1.7484, val_loss: 2.7795, val_acc: 0.0049\n",
            "Epoch [17], train_loss: 1.7420, val_loss: 2.6405, val_acc: 0.0049\n",
            "Epoch [18], train_loss: 1.7258, val_loss: 2.7806, val_acc: 0.0049\n",
            "Epoch [19], train_loss: 1.7076, val_loss: 2.8390, val_acc: 0.0049\n"
          ]
        }
      ]
    }
  ]
}